{
 "cells": [
  {
   "cell_type": "code",
   "execution_count": 16,
   "id": "775c7bf9",
   "metadata": {},
   "outputs": [],
   "source": [
    "# Import dependencies\n",
    "import pandas as pd\n",
    "import numpy as np"
   ]
  },
  {
   "cell_type": "code",
   "execution_count": 6,
   "id": "8580a023",
   "metadata": {},
   "outputs": [],
   "source": [
    "# Read in the vine_table.csv file as a DataFrame, and perform your analysis\n",
    "vine_df = pd.read_csv('Resources/amazon_pet_products_vine.csv')"
   ]
  },
  {
   "cell_type": "code",
   "execution_count": 7,
   "id": "7c7949cb",
   "metadata": {},
   "outputs": [
    {
     "data": {
      "text/html": [
       "<div>\n",
       "<style scoped>\n",
       "    .dataframe tbody tr th:only-of-type {\n",
       "        vertical-align: middle;\n",
       "    }\n",
       "\n",
       "    .dataframe tbody tr th {\n",
       "        vertical-align: top;\n",
       "    }\n",
       "\n",
       "    .dataframe thead th {\n",
       "        text-align: right;\n",
       "    }\n",
       "</style>\n",
       "<table border=\"1\" class=\"dataframe\">\n",
       "  <thead>\n",
       "    <tr style=\"text-align: right;\">\n",
       "      <th></th>\n",
       "      <th>review_id</th>\n",
       "      <th>star_rating</th>\n",
       "      <th>helpful_votes</th>\n",
       "      <th>total_votes</th>\n",
       "      <th>vine</th>\n",
       "      <th>verified_purchase</th>\n",
       "    </tr>\n",
       "  </thead>\n",
       "  <tbody>\n",
       "    <tr>\n",
       "      <th>0</th>\n",
       "      <td>REAKC26P07MDN</td>\n",
       "      <td>5.0</td>\n",
       "      <td>0.0</td>\n",
       "      <td>0.0</td>\n",
       "      <td>N</td>\n",
       "      <td>Y</td>\n",
       "    </tr>\n",
       "    <tr>\n",
       "      <th>1</th>\n",
       "      <td>R3NU7OMZ4HQIEG</td>\n",
       "      <td>2.0</td>\n",
       "      <td>0.0</td>\n",
       "      <td>1.0</td>\n",
       "      <td>N</td>\n",
       "      <td>Y</td>\n",
       "    </tr>\n",
       "    <tr>\n",
       "      <th>2</th>\n",
       "      <td>R14QJW3XF8QO1P</td>\n",
       "      <td>5.0</td>\n",
       "      <td>0.0</td>\n",
       "      <td>0.0</td>\n",
       "      <td>N</td>\n",
       "      <td>Y</td>\n",
       "    </tr>\n",
       "    <tr>\n",
       "      <th>3</th>\n",
       "      <td>R2HB7AX0394ZGY</td>\n",
       "      <td>5.0</td>\n",
       "      <td>0.0</td>\n",
       "      <td>0.0</td>\n",
       "      <td>N</td>\n",
       "      <td>Y</td>\n",
       "    </tr>\n",
       "    <tr>\n",
       "      <th>4</th>\n",
       "      <td>RGKMPDQGSAHR3</td>\n",
       "      <td>5.0</td>\n",
       "      <td>0.0</td>\n",
       "      <td>0.0</td>\n",
       "      <td>N</td>\n",
       "      <td>Y</td>\n",
       "    </tr>\n",
       "  </tbody>\n",
       "</table>\n",
       "</div>"
      ],
      "text/plain": [
       "        review_id  star_rating  helpful_votes  total_votes vine  \\\n",
       "0   REAKC26P07MDN          5.0            0.0          0.0    N   \n",
       "1  R3NU7OMZ4HQIEG          2.0            0.0          1.0    N   \n",
       "2  R14QJW3XF8QO1P          5.0            0.0          0.0    N   \n",
       "3  R2HB7AX0394ZGY          5.0            0.0          0.0    N   \n",
       "4   RGKMPDQGSAHR3          5.0            0.0          0.0    N   \n",
       "\n",
       "  verified_purchase  \n",
       "0                 Y  \n",
       "1                 Y  \n",
       "2                 Y  \n",
       "3                 Y  \n",
       "4                 Y  "
      ]
     },
     "execution_count": 7,
     "metadata": {},
     "output_type": "execute_result"
    }
   ],
   "source": [
    "vine_df.head()"
   ]
  },
  {
   "cell_type": "code",
   "execution_count": 67,
   "id": "b97c4be0",
   "metadata": {},
   "outputs": [
    {
     "data": {
      "text/plain": [
       "2643619"
      ]
     },
     "execution_count": 67,
     "metadata": {},
     "output_type": "execute_result"
    }
   ],
   "source": [
    "total_reviews = vine_df['review_id'].count()\n",
    "total_reviews"
   ]
  },
  {
   "cell_type": "code",
   "execution_count": 8,
   "id": "5d00dda0",
   "metadata": {},
   "outputs": [
    {
     "data": {
      "text/html": [
       "<div>\n",
       "<style scoped>\n",
       "    .dataframe tbody tr th:only-of-type {\n",
       "        vertical-align: middle;\n",
       "    }\n",
       "\n",
       "    .dataframe tbody tr th {\n",
       "        vertical-align: top;\n",
       "    }\n",
       "\n",
       "    .dataframe thead th {\n",
       "        text-align: right;\n",
       "    }\n",
       "</style>\n",
       "<table border=\"1\" class=\"dataframe\">\n",
       "  <thead>\n",
       "    <tr style=\"text-align: right;\">\n",
       "      <th></th>\n",
       "      <th>review_id</th>\n",
       "      <th>star_rating</th>\n",
       "      <th>helpful_votes</th>\n",
       "      <th>total_votes</th>\n",
       "      <th>vine</th>\n",
       "      <th>verified_purchase</th>\n",
       "    </tr>\n",
       "  </thead>\n",
       "  <tbody>\n",
       "    <tr>\n",
       "      <th>128</th>\n",
       "      <td>R21KC552Y6HL8X</td>\n",
       "      <td>1.0</td>\n",
       "      <td>27.0</td>\n",
       "      <td>31.0</td>\n",
       "      <td>N</td>\n",
       "      <td>Y</td>\n",
       "    </tr>\n",
       "    <tr>\n",
       "      <th>161</th>\n",
       "      <td>RX9WC9FTIR1XR</td>\n",
       "      <td>5.0</td>\n",
       "      <td>25.0</td>\n",
       "      <td>25.0</td>\n",
       "      <td>N</td>\n",
       "      <td>Y</td>\n",
       "    </tr>\n",
       "    <tr>\n",
       "      <th>256</th>\n",
       "      <td>RGDCOU1KBHMNG</td>\n",
       "      <td>3.0</td>\n",
       "      <td>29.0</td>\n",
       "      <td>31.0</td>\n",
       "      <td>N</td>\n",
       "      <td>Y</td>\n",
       "    </tr>\n",
       "    <tr>\n",
       "      <th>267</th>\n",
       "      <td>RVTYWID2TPMMY</td>\n",
       "      <td>2.0</td>\n",
       "      <td>35.0</td>\n",
       "      <td>42.0</td>\n",
       "      <td>N</td>\n",
       "      <td>Y</td>\n",
       "    </tr>\n",
       "    <tr>\n",
       "      <th>719</th>\n",
       "      <td>R2CMPZ5VESGRLY</td>\n",
       "      <td>4.0</td>\n",
       "      <td>27.0</td>\n",
       "      <td>28.0</td>\n",
       "      <td>N</td>\n",
       "      <td>Y</td>\n",
       "    </tr>\n",
       "  </tbody>\n",
       "</table>\n",
       "</div>"
      ],
      "text/plain": [
       "          review_id  star_rating  helpful_votes  total_votes vine  \\\n",
       "128  R21KC552Y6HL8X          1.0           27.0         31.0    N   \n",
       "161   RX9WC9FTIR1XR          5.0           25.0         25.0    N   \n",
       "256   RGDCOU1KBHMNG          3.0           29.0         31.0    N   \n",
       "267   RVTYWID2TPMMY          2.0           35.0         42.0    N   \n",
       "719  R2CMPZ5VESGRLY          4.0           27.0         28.0    N   \n",
       "\n",
       "    verified_purchase  \n",
       "128                 Y  \n",
       "161                 Y  \n",
       "256                 Y  \n",
       "267                 Y  \n",
       "719                 Y  "
      ]
     },
     "execution_count": 8,
     "metadata": {},
     "output_type": "execute_result"
    }
   ],
   "source": [
    "# Step 1\n",
    "# Filter the data and create a new DataFrame or table to retrieve all the rows where the total_votes count is \n",
    "# equal to or greater than 20 to pick reviews that are more likely to be helpful and to avoid having \n",
    "# division by zero errors later on.\n",
    "vine_votes_df = vine_df[vine_df['total_votes'] >= 20]\n",
    "vine_votes_df.head()"
   ]
  },
  {
   "cell_type": "code",
   "execution_count": 24,
   "id": "fcd1997e",
   "metadata": {},
   "outputs": [
    {
     "data": {
      "text/html": [
       "<div>\n",
       "<style scoped>\n",
       "    .dataframe tbody tr th:only-of-type {\n",
       "        vertical-align: middle;\n",
       "    }\n",
       "\n",
       "    .dataframe tbody tr th {\n",
       "        vertical-align: top;\n",
       "    }\n",
       "\n",
       "    .dataframe thead th {\n",
       "        text-align: right;\n",
       "    }\n",
       "</style>\n",
       "<table border=\"1\" class=\"dataframe\">\n",
       "  <thead>\n",
       "    <tr style=\"text-align: right;\">\n",
       "      <th></th>\n",
       "      <th>review_id</th>\n",
       "      <th>star_rating</th>\n",
       "      <th>helpful_votes</th>\n",
       "      <th>total_votes</th>\n",
       "      <th>vine</th>\n",
       "      <th>verified_purchase</th>\n",
       "    </tr>\n",
       "  </thead>\n",
       "  <tbody>\n",
       "    <tr>\n",
       "      <th>128</th>\n",
       "      <td>R21KC552Y6HL8X</td>\n",
       "      <td>1.0</td>\n",
       "      <td>27.0</td>\n",
       "      <td>31.0</td>\n",
       "      <td>N</td>\n",
       "      <td>Y</td>\n",
       "    </tr>\n",
       "    <tr>\n",
       "      <th>161</th>\n",
       "      <td>RX9WC9FTIR1XR</td>\n",
       "      <td>5.0</td>\n",
       "      <td>25.0</td>\n",
       "      <td>25.0</td>\n",
       "      <td>N</td>\n",
       "      <td>Y</td>\n",
       "    </tr>\n",
       "    <tr>\n",
       "      <th>256</th>\n",
       "      <td>RGDCOU1KBHMNG</td>\n",
       "      <td>3.0</td>\n",
       "      <td>29.0</td>\n",
       "      <td>31.0</td>\n",
       "      <td>N</td>\n",
       "      <td>Y</td>\n",
       "    </tr>\n",
       "    <tr>\n",
       "      <th>267</th>\n",
       "      <td>RVTYWID2TPMMY</td>\n",
       "      <td>2.0</td>\n",
       "      <td>35.0</td>\n",
       "      <td>42.0</td>\n",
       "      <td>N</td>\n",
       "      <td>Y</td>\n",
       "    </tr>\n",
       "    <tr>\n",
       "      <th>719</th>\n",
       "      <td>R2CMPZ5VESGRLY</td>\n",
       "      <td>4.0</td>\n",
       "      <td>27.0</td>\n",
       "      <td>28.0</td>\n",
       "      <td>N</td>\n",
       "      <td>Y</td>\n",
       "    </tr>\n",
       "  </tbody>\n",
       "</table>\n",
       "</div>"
      ],
      "text/plain": [
       "          review_id  star_rating  helpful_votes  total_votes vine  \\\n",
       "128  R21KC552Y6HL8X          1.0           27.0         31.0    N   \n",
       "161   RX9WC9FTIR1XR          5.0           25.0         25.0    N   \n",
       "256   RGDCOU1KBHMNG          3.0           29.0         31.0    N   \n",
       "267   RVTYWID2TPMMY          2.0           35.0         42.0    N   \n",
       "719  R2CMPZ5VESGRLY          4.0           27.0         28.0    N   \n",
       "\n",
       "    verified_purchase  \n",
       "128                 Y  \n",
       "161                 Y  \n",
       "256                 Y  \n",
       "267                 Y  \n",
       "719                 Y  "
      ]
     },
     "execution_count": 24,
     "metadata": {},
     "output_type": "execute_result"
    }
   ],
   "source": [
    "# Step 2\n",
    "# Filter the new DataFrame or table created in Step 1 and create a new DataFrame or table to retrieve all the rows \n",
    "# where the number of helpful_votes divided by total_votes is equal to or greater than 50%.\n",
    "\n",
    "vine_helpful_df = vine_votes_df[vine_votes_df['helpful_votes'] / vine_votes_df['total_votes'] >= 0.50]\n",
    "vine_helpful_df.head()"
   ]
  },
  {
   "cell_type": "code",
   "execution_count": 28,
   "id": "0009a5df",
   "metadata": {},
   "outputs": [
    {
     "data": {
      "text/html": [
       "<div>\n",
       "<style scoped>\n",
       "    .dataframe tbody tr th:only-of-type {\n",
       "        vertical-align: middle;\n",
       "    }\n",
       "\n",
       "    .dataframe tbody tr th {\n",
       "        vertical-align: top;\n",
       "    }\n",
       "\n",
       "    .dataframe thead th {\n",
       "        text-align: right;\n",
       "    }\n",
       "</style>\n",
       "<table border=\"1\" class=\"dataframe\">\n",
       "  <thead>\n",
       "    <tr style=\"text-align: right;\">\n",
       "      <th></th>\n",
       "      <th>review_id</th>\n",
       "      <th>star_rating</th>\n",
       "      <th>helpful_votes</th>\n",
       "      <th>total_votes</th>\n",
       "      <th>vine</th>\n",
       "      <th>verified_purchase</th>\n",
       "    </tr>\n",
       "  </thead>\n",
       "  <tbody>\n",
       "    <tr>\n",
       "      <th>8547</th>\n",
       "      <td>R3A71VR1JZD8WF</td>\n",
       "      <td>2.0</td>\n",
       "      <td>27.0</td>\n",
       "      <td>30.0</td>\n",
       "      <td>Y</td>\n",
       "      <td>N</td>\n",
       "    </tr>\n",
       "    <tr>\n",
       "      <th>10246</th>\n",
       "      <td>R16OMUJIGI18JZ</td>\n",
       "      <td>5.0</td>\n",
       "      <td>72.0</td>\n",
       "      <td>72.0</td>\n",
       "      <td>Y</td>\n",
       "      <td>N</td>\n",
       "    </tr>\n",
       "    <tr>\n",
       "      <th>25168</th>\n",
       "      <td>R3TS8ZP2FHQ9XR</td>\n",
       "      <td>5.0</td>\n",
       "      <td>39.0</td>\n",
       "      <td>42.0</td>\n",
       "      <td>Y</td>\n",
       "      <td>N</td>\n",
       "    </tr>\n",
       "    <tr>\n",
       "      <th>46422</th>\n",
       "      <td>R2MHP919VZN7DI</td>\n",
       "      <td>5.0</td>\n",
       "      <td>29.0</td>\n",
       "      <td>30.0</td>\n",
       "      <td>Y</td>\n",
       "      <td>N</td>\n",
       "    </tr>\n",
       "    <tr>\n",
       "      <th>66446</th>\n",
       "      <td>RD2BCTVS59A5L</td>\n",
       "      <td>2.0</td>\n",
       "      <td>20.0</td>\n",
       "      <td>20.0</td>\n",
       "      <td>Y</td>\n",
       "      <td>N</td>\n",
       "    </tr>\n",
       "  </tbody>\n",
       "</table>\n",
       "</div>"
      ],
      "text/plain": [
       "            review_id  star_rating  helpful_votes  total_votes vine  \\\n",
       "8547   R3A71VR1JZD8WF          2.0           27.0         30.0    Y   \n",
       "10246  R16OMUJIGI18JZ          5.0           72.0         72.0    Y   \n",
       "25168  R3TS8ZP2FHQ9XR          5.0           39.0         42.0    Y   \n",
       "46422  R2MHP919VZN7DI          5.0           29.0         30.0    Y   \n",
       "66446   RD2BCTVS59A5L          2.0           20.0         20.0    Y   \n",
       "\n",
       "      verified_purchase  \n",
       "8547                  N  \n",
       "10246                 N  \n",
       "25168                 N  \n",
       "46422                 N  \n",
       "66446                 N  "
      ]
     },
     "execution_count": 28,
     "metadata": {},
     "output_type": "execute_result"
    }
   ],
   "source": [
    "# Step 3\n",
    "# Filter the DataFrame or table created in Step 2, and create a new DataFrame or table that retrieves all the rows \n",
    "# where a review was written as part of the Vine program (paid), vine == 'Y'.\n",
    "vine_review_df = vine_helpful_df.loc[vine_helpful_df['vine'] == 'Y']\n",
    "vine_review_df.head()"
   ]
  },
  {
   "cell_type": "code",
   "execution_count": 29,
   "id": "fbeca928",
   "metadata": {},
   "outputs": [
    {
     "data": {
      "text/html": [
       "<div>\n",
       "<style scoped>\n",
       "    .dataframe tbody tr th:only-of-type {\n",
       "        vertical-align: middle;\n",
       "    }\n",
       "\n",
       "    .dataframe tbody tr th {\n",
       "        vertical-align: top;\n",
       "    }\n",
       "\n",
       "    .dataframe thead th {\n",
       "        text-align: right;\n",
       "    }\n",
       "</style>\n",
       "<table border=\"1\" class=\"dataframe\">\n",
       "  <thead>\n",
       "    <tr style=\"text-align: right;\">\n",
       "      <th></th>\n",
       "      <th>review_id</th>\n",
       "      <th>star_rating</th>\n",
       "      <th>helpful_votes</th>\n",
       "      <th>total_votes</th>\n",
       "      <th>vine</th>\n",
       "      <th>verified_purchase</th>\n",
       "    </tr>\n",
       "  </thead>\n",
       "  <tbody>\n",
       "    <tr>\n",
       "      <th>128</th>\n",
       "      <td>R21KC552Y6HL8X</td>\n",
       "      <td>1.0</td>\n",
       "      <td>27.0</td>\n",
       "      <td>31.0</td>\n",
       "      <td>N</td>\n",
       "      <td>Y</td>\n",
       "    </tr>\n",
       "    <tr>\n",
       "      <th>161</th>\n",
       "      <td>RX9WC9FTIR1XR</td>\n",
       "      <td>5.0</td>\n",
       "      <td>25.0</td>\n",
       "      <td>25.0</td>\n",
       "      <td>N</td>\n",
       "      <td>Y</td>\n",
       "    </tr>\n",
       "    <tr>\n",
       "      <th>256</th>\n",
       "      <td>RGDCOU1KBHMNG</td>\n",
       "      <td>3.0</td>\n",
       "      <td>29.0</td>\n",
       "      <td>31.0</td>\n",
       "      <td>N</td>\n",
       "      <td>Y</td>\n",
       "    </tr>\n",
       "    <tr>\n",
       "      <th>267</th>\n",
       "      <td>RVTYWID2TPMMY</td>\n",
       "      <td>2.0</td>\n",
       "      <td>35.0</td>\n",
       "      <td>42.0</td>\n",
       "      <td>N</td>\n",
       "      <td>Y</td>\n",
       "    </tr>\n",
       "    <tr>\n",
       "      <th>719</th>\n",
       "      <td>R2CMPZ5VESGRLY</td>\n",
       "      <td>4.0</td>\n",
       "      <td>27.0</td>\n",
       "      <td>28.0</td>\n",
       "      <td>N</td>\n",
       "      <td>Y</td>\n",
       "    </tr>\n",
       "  </tbody>\n",
       "</table>\n",
       "</div>"
      ],
      "text/plain": [
       "          review_id  star_rating  helpful_votes  total_votes vine  \\\n",
       "128  R21KC552Y6HL8X          1.0           27.0         31.0    N   \n",
       "161   RX9WC9FTIR1XR          5.0           25.0         25.0    N   \n",
       "256   RGDCOU1KBHMNG          3.0           29.0         31.0    N   \n",
       "267   RVTYWID2TPMMY          2.0           35.0         42.0    N   \n",
       "719  R2CMPZ5VESGRLY          4.0           27.0         28.0    N   \n",
       "\n",
       "    verified_purchase  \n",
       "128                 Y  \n",
       "161                 Y  \n",
       "256                 Y  \n",
       "267                 Y  \n",
       "719                 Y  "
      ]
     },
     "execution_count": 29,
     "metadata": {},
     "output_type": "execute_result"
    }
   ],
   "source": [
    "# Step 4\n",
    "# Repeat Step 3, but this time retrieve all the rows where the review \n",
    "# was not part of the Vine program (unpaid), vine == 'N'.\n",
    "vine_no_df = vine_helpful_df.loc[vine_helpful_df['vine'] == 'N']\n",
    "vine_no_df.head()"
   ]
  },
  {
   "cell_type": "markdown",
   "id": "35745130",
   "metadata": {},
   "source": [
    "# Determine the total number of reviews, the number of 5-star reviews, and the percentage of 5-star reviews for the two types of review (paid vs unpaid)."
   ]
  },
  {
   "cell_type": "code",
   "execution_count": 65,
   "id": "68cdfb07",
   "metadata": {},
   "outputs": [
    {
     "data": {
      "text/plain": [
       "170"
      ]
     },
     "execution_count": 65,
     "metadata": {},
     "output_type": "execute_result"
    }
   ],
   "source": [
    "# Total # of reviews - Vine Paid\n",
    "total_vine_reviews = vine_review_df['review_id'].count()\n",
    "total_vine_reviews"
   ]
  },
  {
   "cell_type": "code",
   "execution_count": 58,
   "id": "8066cb71",
   "metadata": {},
   "outputs": [
    {
     "data": {
      "text/plain": [
       "65"
      ]
     },
     "execution_count": 58,
     "metadata": {},
     "output_type": "execute_result"
    }
   ],
   "source": [
    "# Number of 5-star reviews - Vine Paid\n",
    "vine_five_star_reviews = len(vine_review_df[vine_review_df['star_rating'] == 5])\n",
    "vine_five_star_reviews"
   ]
  },
  {
   "cell_type": "code",
   "execution_count": 59,
   "id": "56187562",
   "metadata": {},
   "outputs": [
    {
     "data": {
      "text/plain": [
       "38.23529411764706"
      ]
     },
     "execution_count": 59,
     "metadata": {},
     "output_type": "execute_result"
    }
   ],
   "source": [
    "# Percentage of 5-star review - Vine Paid\n",
    "vine_percentage_five_stars = vine_five_star_reviews / total_vine_reviews * 100\n",
    "vine_percentage_five_stars"
   ]
  },
  {
   "cell_type": "code",
   "execution_count": 61,
   "id": "1af9b551",
   "metadata": {},
   "outputs": [
    {
     "data": {
      "text/plain": [
       "37840"
      ]
     },
     "execution_count": 61,
     "metadata": {},
     "output_type": "execute_result"
    }
   ],
   "source": [
    "# Total # of reviews - NOT Paid\n",
    "total_unpaid_reviews = vine_no_df['review_id'].count()\n",
    "total_unpaid_reviews"
   ]
  },
  {
   "cell_type": "code",
   "execution_count": 62,
   "id": "cb39fd74",
   "metadata": {},
   "outputs": [
    {
     "data": {
      "text/plain": [
       "20612"
      ]
     },
     "execution_count": 62,
     "metadata": {},
     "output_type": "execute_result"
    }
   ],
   "source": [
    "# Number of 5-star reviews - Not Paid\n",
    "unpaid_five_star_reviews = len(vine_no_df[vine_no_df['star_rating'] == 5])\n",
    "unpaid_five_star_reviews"
   ]
  },
  {
   "cell_type": "code",
   "execution_count": 63,
   "id": "640bbb7c",
   "metadata": {},
   "outputs": [
    {
     "data": {
      "text/plain": [
       "54.471458773784356"
      ]
     },
     "execution_count": 63,
     "metadata": {},
     "output_type": "execute_result"
    }
   ],
   "source": [
    "# Percentage of 5-star review - Not Paid\n",
    "unpaid_percentage_five_stars = unpaid_five_star_reviews / total_unpaid_reviews * 100\n",
    "unpaid_percentage_five_stars"
   ]
  }
 ],
 "metadata": {
  "kernelspec": {
   "display_name": "mlenv",
   "language": "python",
   "name": "mlenv"
  },
  "language_info": {
   "codemirror_mode": {
    "name": "ipython",
    "version": 3
   },
   "file_extension": ".py",
   "mimetype": "text/x-python",
   "name": "python",
   "nbconvert_exporter": "python",
   "pygments_lexer": "ipython3",
   "version": "3.7.11"
  }
 },
 "nbformat": 4,
 "nbformat_minor": 5
}
